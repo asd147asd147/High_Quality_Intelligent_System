{
 "cells": [
  {
   "cell_type": "markdown",
   "metadata": {},
   "source": [
    "# 1. 숫자인식 single-layer Perceptron 설계"
   ]
  },
  {
   "cell_type": "markdown",
   "metadata": {},
   "source": [
    "### 1) 8x6 숫자 디자인"
   ]
  },
  {
   "cell_type": "code",
   "execution_count": 364,
   "metadata": {},
   "outputs": [],
   "source": [
    "import numpy as np\n",
    "\n",
    "num_set = [[[0,1,1,1,1,0],\n",
    "            [1,0,0,0,0,1],\n",
    "            [1,0,0,0,0,1],\n",
    "            [1,0,0,0,0,1],\n",
    "            [1,0,0,0,0,1],\n",
    "            [1,0,0,0,0,1],\n",
    "            [1,0,0,0,0,1],\n",
    "            [0,1,1,1,1,0]],# 0\n",
    "           \n",
    "           [[0,0,0,1,0,0],\n",
    "            [0,0,1,1,0,0],\n",
    "            [0,1,0,1,0,0],\n",
    "            [0,0,0,1,0,0],\n",
    "            [0,0,0,1,0,0],\n",
    "            [0,0,0,1,0,0],\n",
    "            [0,0,0,1,0,0],\n",
    "            [0,1,1,1,1,1]],# 1\n",
    "           \n",
    "           [[0,1,1,1,1,0],\n",
    "            [1,0,0,0,0,1],\n",
    "            [1,0,0,0,0,1],\n",
    "            [0,0,0,0,1,0],\n",
    "            [0,0,0,1,0,0],\n",
    "            [0,0,1,0,0,0],\n",
    "            [0,1,0,0,0,0],\n",
    "            [1,1,1,1,1,1]],# 2\n",
    "           \n",
    "           [[0,0,0,0,0,0],\n",
    "            [0,1,1,1,1,0],\n",
    "            [1,0,0,0,0,1],\n",
    "            [0,0,0,0,0,1],\n",
    "            [0,0,1,1,1,0],\n",
    "            [0,0,0,0,0,1],\n",
    "            [1,0,0,0,0,1],\n",
    "            [0,1,1,1,1,0]],# 3\n",
    "           \n",
    "           [[0,0,0,0,0,0],\n",
    "            [0,0,0,0,1,0],\n",
    "            [0,0,0,1,1,0],\n",
    "            [0,0,1,0,1,0],\n",
    "            [0,1,0,0,1,0],\n",
    "            [1,1,1,1,1,1],\n",
    "            [0,0,0,0,1,0],\n",
    "            [0,0,0,0,1,0]],# 4\n",
    "           \n",
    "           [[1,1,1,1,1,1],\n",
    "            [1,0,0,0,0,0],\n",
    "            [1,0,0,0,0,0],\n",
    "            [1,1,1,1,1,0],\n",
    "            [0,0,0,0,0,1],\n",
    "            [0,0,0,0,0,1],\n",
    "            [0,0,0,0,0,1],\n",
    "            [1,1,1,1,1,0]],# 5\n",
    "           \n",
    "           [[0,1,1,1,1,0],\n",
    "            [1,0,0,0,0,1],\n",
    "            [1,0,0,0,0,0],\n",
    "            [1,1,1,1,1,0],\n",
    "            [1,0,0,0,0,1],\n",
    "            [1,0,0,0,0,1],\n",
    "            [1,0,0,0,0,1],\n",
    "            [0,1,1,1,1,0]],# 6\n",
    "           \n",
    "           [[0,1,1,1,1,1],\n",
    "            [0,0,0,0,0,1],\n",
    "            [0,0,0,0,0,1],\n",
    "            [0,0,0,0,1,0],\n",
    "            [0,0,0,0,1,0],\n",
    "            [0,0,0,1,0,0],\n",
    "            [0,0,0,1,0,0],\n",
    "            [0,0,0,1,0,0]],# 7\n",
    "           \n",
    "           [[0,0,0,0,0,0],\n",
    "            [0,1,1,1,1,0],\n",
    "            [1,0,0,0,0,1],\n",
    "            [1,0,0,0,0,1],\n",
    "            [0,1,1,1,1,0],\n",
    "            [1,0,0,0,0,1],\n",
    "            [1,0,0,0,0,1],\n",
    "            [0,1,1,1,1,0]],# 8\n",
    "           \n",
    "           [[0,1,1,1,1,0],\n",
    "            [1,0,0,0,0,1],\n",
    "            [1,0,0,0,0,1],\n",
    "            [1,0,0,0,0,1],\n",
    "            [0,1,1,1,1,1],\n",
    "            [0,0,0,0,0,1],\n",
    "            [1,0,0,0,0,1],\n",
    "            [0,1,1,1,1,0]]]# 9"
   ]
  },
  {
   "cell_type": "code",
   "execution_count": 365,
   "metadata": {},
   "outputs": [
    {
     "data": {
      "image/png": "[encoded data removed]",
      "text/plain": [
       "<Figure size 432x288 with 10 Axes>"
      ]
     },
     "metadata": {
      "needs_background": "light"
     },
     "output_type": "display_data"
    }
   ],
   "source": [
    "from PIL import Image\n",
    "import matplotlib.pyplot as plt\n",
    "w, h = 6, 8\n",
    "for i,j in zip(num_set, range(1,11)):\n",
    "    img = Image.fromarray(np.invert(np.array(i).astype(bool)))\n",
    "    plt.subplot(2,5,j)\n",
    "    plt.xlabel('origin:'+str(j-1),fontsize=11,loc='center')\n",
    "    plt.imshow(img)\n",
    "plt.suptitle('8x6 Number design',fontsize=15)\n",
    "plt.subplots_adjust(top=0.2)\n",
    "plt.tight_layout()\n",
    "plt.savefig('Number.png',dpi=300)"
   ]
  },
  {
   "cell_type": "markdown",
   "metadata": {},
   "source": [
    "### 2) Desired Output 설정"
   ]
  },
  {
   "cell_type": "code",
   "execution_count": 366,
   "metadata": {},
   "outputs": [],
   "source": [
    "desired_output = np.array([[-1,-1,-1,-1],\n",
    "                           [-1,-1,-1, 1],\n",
    "                           [-1,-1, 1,-1],\n",
    "                           [-1,-1, 1, 1],\n",
    "                           [-1, 1,-1,-1],\n",
    "                           [-1, 1,-1, 1],\n",
    "                           [-1, 1, 1,-1],\n",
    "                           [-1, 1, 1, 1],\n",
    "                           [ 1,-1,-1,-1],\n",
    "                           [ 1,-1,-1, 1]])"
   ]
  },
  {
   "cell_type": "markdown",
   "metadata": {},
   "source": [
    "### 3) Learning phase"
   ]
  },
  {
   "cell_type": "code",
   "execution_count": 367,
   "metadata": {
    "scrolled": false
   },
   "outputs": [],
   "source": [
    "def activation(x):\n",
    "    return (1 if x>=0 else -1)\n",
    "\n",
    "activation = np.vectorize(activation)\n",
    "\n",
    "weight = np.random.randn(4,48)\n",
    "\n",
    "n = 1\n",
    "while True:\n",
    "    check = 0\n",
    "    for i in range(10):\n",
    "        x = np.ravel(num_set[i])\n",
    "        NET = np.dot(x,weight.T)\n",
    "        NET = activation(NET)\n",
    "        for y,d,j in zip(NET,desired_output[i],range(4)):\n",
    "            if d != y:\n",
    "                weight[j] = weight[j]+(n*(d-y)*x)\n",
    "                check = 1\n",
    "    if check==0:\n",
    "        break"
   ]
  },
  {
   "cell_type": "markdown",
   "metadata": {},
   "source": [
    "### 4) Recognition phase (Noise data)"
   ]
  },
  {
   "cell_type": "code",
   "execution_count": 368,
   "metadata": {},
   "outputs": [
    {
     "data": {
      "image/png": "[encoded data removed]",
      "text/plain": [
       "<Figure size 432x288 with 10 Axes>"
      ]
     },
     "metadata": {
      "needs_background": "light"
     },
     "output_type": "display_data"
    }
   ],
   "source": [
    "noise_num_set = np.copy(np.array(num_set))\n",
    "\n",
    "for i in range(10):\n",
    "    np.random.seed(2)\n",
    "    random_noise_num = np.random.randint(4,7,size=1)\n",
    "    random_noise_w = np.random.randint(w, size=random_noise_num)\n",
    "    random_noise_h = np.random.randint(h, size=random_noise_num)\n",
    "    for x,y in zip(random_noise_w,random_noise_h):\n",
    "        noise_num_set[i][y][x] = not noise_num_set[i][y][x]\n",
    "\n",
    "recognition = []\n",
    "for i in range(10):\n",
    "    NET = np.dot(np.ravel(noise_num_set[i]),weight.T)\n",
    "    NET = activation(result)\n",
    "    for j in range(10):\n",
    "        if np.array_equal(NET,desired_output[j]):\n",
    "            recognition.append(j)\n",
    "            break\n",
    "        elif j==9:\n",
    "            recognition.append(np.nan)\n",
    "            \n",
    "for i in range(10):\n",
    "    img = Image.fromarray(np.invert(noise_num_set[i].astype(bool)))\n",
    "    plt.subplot(2,5,i+1)\n",
    "    if i == recognition[i]:\n",
    "        plt.xlabel('origin:'+str(i)+'\\njudge:'+str(recognition[i])+'\\n',fontsize=11,loc='center',color='green')\n",
    "    else:\n",
    "        plt.xlabel('origin:'+str(i)+'\\njudge:'+str(recognition[i])+'\\n',fontsize=11,loc='center',color='red')\n",
    "    plt.imshow(img)\n",
    "plt.suptitle('Recognition phase',fontsize=15)\n",
    "plt.subplots_adjust(top=0.2)\n",
    "plt.tight_layout()\n",
    "plt.savefig('Recognition.png',dpi=300)"
   ]
  },
  {
   "cell_type": "markdown",
   "metadata": {},
   "source": [
    "### 5) Accuracy measurement"
   ]
  },
  {
   "cell_type": "code",
   "execution_count": 369,
   "metadata": {
    "scrolled": false
   },
   "outputs": [
    {
     "data": {
      "image/png": "[encoded data removed]",
      "text/plain": [
       "<Figure size 648x648 with 50 Axes>"
      ]
     },
     "metadata": {
      "needs_background": "light"
     },
     "output_type": "display_data"
    }
   ],
   "source": [
    "noise_num_temp = np.copy(np.array(num_set))\n",
    "noise_num_dummy = np.empty((5,10,8,6))\n",
    "for i in range(5):\n",
    "    noise_num_dummy[i] = np.copy(noise_num_temp)\n",
    "    for j in range(10):\n",
    "        random_noise_num = np.random.randint(4,7,size=1)\n",
    "        random_noise_w = np.random.randint(w, size=random_noise_num)\n",
    "        random_noise_h = np.random.randint(h, size=random_noise_num)\n",
    "        for x,y in zip(random_noise_w,random_noise_h):\n",
    "            noise_num_dummy[i][j][y][x] = not noise_num_dummy[i][j][y][x]\n",
    "            \n",
    "recognition_dummy = np.empty((10,5))\n",
    "\n",
    "for i in range(10):\n",
    "    for j in range(5):\n",
    "        result = np.dot(np.ravel(noise_num_dummy[j][i]),weight.T)\n",
    "        result = activation(result)\n",
    "        for k in range(10):\n",
    "            if np.array_equal(result,desired_output[k]):\n",
    "                recognition_dummy[i][j] = k\n",
    "                break\n",
    "            elif j==9:\n",
    "                recognition_dummy[i][j] = np.nan\n",
    "recognition_dummy = recognition_dummy.astype(int)\n",
    "\n",
    "correct_num = 0\n",
    "\n",
    "plt.figure(figsize=(9,9))\n",
    "for i in range(10):\n",
    "    for j in range(5):\n",
    "        img = Image.fromarray(np.invert(noise_num_dummy[j][i].astype(bool)))\n",
    "        plt.subplot(5,10,j*10+i+1)\n",
    "        if i == recognition_dummy[i][j]:\n",
    "            plt.xlabel('origin:'+str(i)+'\\njudge:'+str(recognition_dummy[i][j])+'\\n',fontsize=9,loc='center',color='green')\n",
    "            correct_num+=1\n",
    "        else:\n",
    "            plt.xlabel('origin:'+str(i)+'\\njudge:'+str(recognition_dummy[i][j])+'\\n',fontsize=9,loc='center',color='red')\n",
    "        plt.imshow(img)\n",
    "plt.suptitle('Accuracy measurement',fontsize=20,y=1.0)\n",
    "plt.subplots_adjust(top=0.3,wspace=None)\n",
    "plt.tight_layout()\n",
    "plt.savefig('Accuracy.png',dpi=300)"
   ]
  },
  {
   "cell_type": "code",
   "execution_count": 370,
   "metadata": {},
   "outputs": [
    {
     "name": "stdout",
     "output_type": "stream",
     "text": [
      "Accuracy :54.0%\n"
     ]
    }
   ],
   "source": [
    "print('Accuracy :'+str(correct_num/50*100)+'%')"
   ]
  },
  {
   "cell_type": "code",
   "execution_count": null,
   "metadata": {},
   "outputs": [],
   "source": []
  }
 ],
 "metadata": {
  "kernelspec": {
   "display_name": "Python 3",
   "language": "python",
   "name": "python3"
  },
  "language_info": {
   "codemirror_mode": {
    "name": "ipython",
    "version": 3
   },
   "file_extension": ".py",
   "mimetype": "text/x-python",
   "name": "python",
   "nbconvert_exporter": "python",
   "pygments_lexer": "ipython3",
   "version": "3.7.4"
  }
 },
 "nbformat": 4,
 "nbformat_minor": 4
}
