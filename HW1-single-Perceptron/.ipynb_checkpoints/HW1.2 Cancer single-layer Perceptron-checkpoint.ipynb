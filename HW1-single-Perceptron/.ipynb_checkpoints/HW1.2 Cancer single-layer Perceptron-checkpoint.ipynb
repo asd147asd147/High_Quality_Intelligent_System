{
 "cells": [
  {
   "cell_type": "markdown",
   "metadata": {},
   "source": [
    "# 2. 암 single-layer Perceptron 임상자료"
   ]
  },
  {
   "cell_type": "markdown",
   "metadata": {},
   "source": [
    "### 1) DataSet"
   ]
  },
  {
   "cell_type": "code",
   "execution_count": 44,
   "metadata": {},
   "outputs": [],
   "source": [
    "import numpy as np\n",
    "cancer_patient = np.array([[0.8,0.3,0.9,0.1,0.2],\n",
    "                           [0.9,0.4,0.7,0.2,0.1],\n",
    "                           [0.2,0.8,0.2,0.8,0.1],\n",
    "                           [0.3,0.9,0.3,0.7,0.2],\n",
    "                           [0.1,0.2,0.8,0.1,0.9],\n",
    "                           [0.2,0.3,0.9,0.2,0.8],\n",
    "                           [0.9,0.2,0.4,0.8,0.7],\n",
    "                           [0.8,0.3,0.2,0.9,0.8]])\n",
    "\n",
    "desired_output = np.array([[ 1,-1,-1,-1],\n",
    "                           [-1, 1,-1,-1],\n",
    "                           [-1,-1, 1,-1],\n",
    "                           [-1,-1,-1, 1]])\n",
    "\n",
    "disease_name = ['유방암','간암','폐암','췌장암']"
   ]
  },
  {
   "cell_type": "markdown",
   "metadata": {},
   "source": [
    "### 2) Learning Phase"
   ]
  },
  {
   "cell_type": "code",
   "execution_count": 56,
   "metadata": {},
   "outputs": [],
   "source": [
    "def activation(x):\n",
    "    return (1 if x>=0 else -1)\n",
    "\n",
    "activation = np.vectorize(activation)\n",
    "\n",
    "weight = np.random.randn(4,5)\n",
    "\n",
    "n = 0.2\n",
    "while True:\n",
    "    check = 0\n",
    "    for i in range(8):\n",
    "        x = cancer_patient[i]\n",
    "        NET = np.dot(x,weight.T)\n",
    "        NET = activation(NET)\n",
    "        for y,d,j in zip(NET,desired_output[i//2],range(4)):\n",
    "            if d != y:\n",
    "                weight[j] = weight[j]+(n*(d-y)*x)\n",
    "                check = 1\n",
    "    if check==0:\n",
    "        break"
   ]
  },
  {
   "cell_type": "markdown",
   "metadata": {},
   "source": [
    "### 3) Recognition phase (Judge patient)"
   ]
  },
  {
   "cell_type": "code",
   "execution_count": 57,
   "metadata": {},
   "outputs": [
    {
     "name": "stdout",
     "output_type": "stream",
     "text": [
      "[-1  1 -1 -1]\n",
      "[-1 -1  1 -1]\n"
     ]
    }
   ],
   "source": [
    "judge_patient = np.array([[0.5,0.7,0.3,0.5,0.6],\n",
    "                          [0.6,0.7,0.8,0.9,0.7]])\n",
    "\n",
    "recognition = []\n",
    "for x in judge_patient:\n",
    "    NET = np.dot(x,weight.T)\n",
    "    NET = activation(NET)\n",
    "    print(NET)\n",
    "    for i in range(4):\n",
    "        if np.array_equal(NET,desired_output[i]):\n",
    "            recognition.append(disease_name[i])\n",
    "            break\n",
    "        elif i==3:\n",
    "            recognition.append('NULL')"
   ]
  },
  {
   "cell_type": "code",
   "execution_count": 58,
   "metadata": {},
   "outputs": [
    {
     "name": "stdout",
     "output_type": "stream",
     "text": [
      "환자1 진단결과 : 간암\n",
      "환자2 진단결과 : 폐암\n"
     ]
    }
   ],
   "source": [
    "print('환자1 진단결과 :',recognition[0])\n",
    "print('환자2 진단결과 :',recognition[1])"
   ]
  },
  {
   "cell_type": "code",
   "execution_count": null,
   "metadata": {},
   "outputs": [],
   "source": []
  }
 ],
 "metadata": {
  "kernelspec": {
   "display_name": "Python 3",
   "language": "python",
   "name": "python3"
  },
  "language_info": {
   "codemirror_mode": {
    "name": "ipython",
    "version": 3
   },
   "file_extension": ".py",
   "mimetype": "text/x-python",
   "name": "python",
   "nbconvert_exporter": "python",
   "pygments_lexer": "ipython3",
   "version": "3.7.4"
  }
 },
 "nbformat": 4,
 "nbformat_minor": 4
}
